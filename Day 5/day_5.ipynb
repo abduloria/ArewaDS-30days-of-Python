{
 "cells": [
  {
   "cell_type": "markdown",
   "metadata": {},
   "source": [
    "### Declaring an Empty list"
   ]
  },
  {
   "cell_type": "code",
   "execution_count": null,
   "metadata": {},
   "outputs": [],
   "source": [
    "empty_list = list() # this is my first empty list with no list inside\n",
    "empty_lst = [] # this is an empty list with square brackets\n",
    "print (len(empty_list)) \n",
    "print (len(empty_lst))"
   ]
  },
  {
   "cell_type": "markdown",
   "metadata": {},
   "source": [
    "### Declared a list with more than 5 items"
   ]
  },
  {
   "cell_type": "code",
   "execution_count": null,
   "metadata": {},
   "outputs": [],
   "source": [
    "list_items = [1, 'Cement', 2, 'Sand', 'Stones', 'Mud', 'Clay']\n",
    "print(\"List with more than 5 Items\", list_items)"
   ]
  },
  {
   "cell_type": "markdown",
   "metadata": {},
   "source": [
    "### Find the length of the list"
   ]
  },
  {
   "cell_type": "code",
   "execution_count": null,
   "metadata": {},
   "outputs": [],
   "source": [
    "length_of_list = len(list_items)\n",
    "print (length_of_list)"
   ]
  },
  {
   "cell_type": "markdown",
   "metadata": {},
   "source": [
    "### Get the first, middle, and last items of the list\n"
   ]
  },
  {
   "cell_type": "code",
   "execution_count": null,
   "metadata": {},
   "outputs": [],
   "source": [
    "first_item = list_items[0]\n",
    "middle_item = list_items[length_of_list // 2]\n",
    "last_item = list_items[-1]\n",
    "print (first_item, middle_item, last_item)"
   ]
  },
  {
   "cell_type": "markdown",
   "metadata": {},
   "source": [
    "### Declare a list with mixed data types"
   ]
  },
  {
   "cell_type": "code",
   "execution_count": null,
   "metadata": {},
   "outputs": [],
   "source": [
    "mixed_data_types = ['Abdulrahman', 34, 1.75, 'Married', 'Orozo, AMAC, Abuja.']\n",
    "print (mixed_data_types)"
   ]
  },
  {
   "cell_type": "markdown",
   "metadata": {},
   "source": [
    "#### Declare a list of IT companies"
   ]
  },
  {
   "cell_type": "code",
   "execution_count": null,
   "metadata": {},
   "outputs": [],
   "source": [
    "it_companies = ['Facebook', 'Google', 'Microsoft', 'Apple', 'IBM', 'Oracle', 'Amazon']\n",
    "\n",
    "# Print the list\n",
    "print(\"IT Companies:\", it_companies)\n",
    "\n",
    "# Print the number of companies in the list\n",
    "print(\"Number of Companies:\", len(it_companies))\n",
    "\n",
    "# Print the first, middle, and last company\n",
    "print(\"First Company:\", it_companies[0])\n",
    "print(\"Middle Company:\", it_companies[len(it_companies) // 2])\n",
    "print(\"Last Company:\", it_companies[-1])\n",
    "\n",
    "# Modify one of the companies\n",
    "it_companies[1] = 'Google Corp'\n",
    "\n",
    "print(\"The modified list is: \", it_companies)\n",
    "\n",
    "# Add an IT company\n",
    "it_companies.append('SmartConnect')\n",
    "\n",
    "# Insert an IT company in the middle\n",
    "it_companies.insert(len(it_companies) // 2, 'InsertedCompany')\n",
    "\n",
    "# Change one of the company names to uppercase\n",
    "it_companies[4] = it_companies[4].upper()\n",
    "\n",
    "# Join the list with a string '#;  '\n",
    "joined_companies = '#;  '.join(it_companies)\n",
    "\n",
    "# Check if a certain company exists\n",
    "company_to_check = 'Google'\n",
    "company_exists = company_to_check in it_companies\n",
    "\n",
    "# Sort the list\n",
    "it_companies.sort()\n",
    "\n",
    "# Reverse the list in descending order\n",
    "it_companies.reverse()\n",
    "\n",
    "# Slice out the first 3 companies\n",
    "first_three_companies = it_companies[:3]\n",
    "\n",
    "# Slice out the last 3 companies\n",
    "last_three_companies = it_companies[-3:]\n",
    "\n",
    "# Slice out the middle company or companies\n",
    "middle_index = len(it_companies) // 2\n",
    "middle_companies = it_companies[middle_index - 1 : middle_index + 2]\n",
    "\n",
    "# Remove the first IT company\n",
    "it_companies.pop(0)\n",
    "\n",
    "# Remove the middle IT company or companies\n",
    "it_companies.pop(middle_index)\n",
    "\n",
    "# Remove the last IT company\n",
    "it_companies.pop()\n",
    "\n",
    "# Remove all IT companies\n",
    "it_companies.clear()\n",
    "\n",
    "# Destroy the IT companies list\n",
    "del it_companies"
   ]
  },
  {
   "cell_type": "markdown",
   "metadata": {},
   "source": [
    "##### Join the front_end and back_end lists\n"
   ]
  },
  {
   "cell_type": "code",
   "execution_count": 18,
   "metadata": {},
   "outputs": [
    {
     "name": "stdout",
     "output_type": "stream",
     "text": [
      "Full Stack: ['HTML', 'CSS', 'JS', 'React', 'Redux', 'Python', 'SQL', 'Node', 'Express', 'MongoDB']\n"
     ]
    }
   ],
   "source": [
    "front_end = ['HTML', 'CSS', 'JS', 'React', 'Redux']\n",
    "back_end = ['Node', 'Express', 'MongoDB']\n",
    "full_stack = front_end + back_end\n",
    "\n",
    "# Insert Python and SQL after Redux\n",
    "full_stack.insert(full_stack.index('Redux') + 1, 'Python')\n",
    "full_stack.insert(full_stack.index('Redux') + 2, 'SQL')\n",
    "\n",
    "# Print the final joined and modified list\n",
    "print(\"Full Stack:\", full_stack)\n"
   ]
  },
  {
   "cell_type": "markdown",
   "metadata": {},
   "source": []
  }
 ],
 "metadata": {
  "kernelspec": {
   "display_name": "base",
   "language": "python",
   "name": "python3"
  },
  "language_info": {
   "codemirror_mode": {
    "name": "ipython",
    "version": 3
   },
   "file_extension": ".py",
   "mimetype": "text/x-python",
   "name": "python",
   "nbconvert_exporter": "python",
   "pygments_lexer": "ipython3",
   "version": "3.11.4"
  },
  "orig_nbformat": 4
 },
 "nbformat": 4,
 "nbformat_minor": 2
}
