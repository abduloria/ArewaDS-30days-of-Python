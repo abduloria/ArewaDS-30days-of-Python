{
 "cells": [
  {
   "cell_type": "markdown",
   "metadata": {},
   "source": [
    "### Declaring an Empty list"
   ]
  },
  {
   "cell_type": "code",
   "execution_count": null,
   "metadata": {},
   "outputs": [],
   "source": [
    "empty_list = list() # this is my first empty list with no list inside\n",
    "empty_lst = [] # this is an empty list with square brackets\n",
    "print (len(empty_list)) \n",
    "print (len(empty_lst))"
   ]
  },
  {
   "cell_type": "markdown",
   "metadata": {},
   "source": [
    "### Declared a list with more than 5 items"
   ]
  },
  {
   "cell_type": "code",
   "execution_count": null,
   "metadata": {},
   "outputs": [],
   "source": [
    "list_items = [1, 'Cement', 2, 'Sand', 'Stones', 'Mud', 'Clay']\n",
    "print(\"List with more than 5 Items\", list_items)"
   ]
  },
  {
   "cell_type": "markdown",
   "metadata": {},
   "source": [
    "### Find the length of the list"
   ]
  },
  {
   "cell_type": "code",
   "execution_count": null,
   "metadata": {},
   "outputs": [],
   "source": [
    "length_of_list = len(list_items)\n",
    "print (length_of_list)"
   ]
  },
  {
   "cell_type": "markdown",
   "metadata": {},
   "source": [
    "### Get the first, middle, and last items of the list\n"
   ]
  },
  {
   "cell_type": "code",
   "execution_count": null,
   "metadata": {},
   "outputs": [],
   "source": [
    "first_item = list_items[0]\n",
    "middle_item = list_items[length_of_list // 2]\n",
    "last_item = list_items[-1]\n",
    "print (first_item, middle_item, last_item)"
   ]
  },
  {
   "cell_type": "markdown",
   "metadata": {},
   "source": [
    "### Declare a list with mixed data types"
   ]
  },
  {
   "cell_type": "code",
   "execution_count": null,
   "metadata": {},
   "outputs": [],
   "source": [
    "mixed_data_types = ['Abdulrahman', 34, 1.75, 'Married', 'Orozo, AMAC, Abuja.']\n",
    "print (mixed_data_types)"
   ]
  },
  {
   "cell_type": "markdown",
   "metadata": {},
   "source": [
    "#### Declare a list of IT companies"
   ]
  },
  {
   "cell_type": "code",
   "execution_count": null,
   "metadata": {},
   "outputs": [],
   "source": [
    "it_companies = ['Facebook', 'Google', 'Microsoft', 'Apple', 'IBM', 'Oracle', 'Amazon']\n",
    "\n",
    "# Print the list\n",
    "print(\"IT Companies:\", it_companies)\n",
    "\n",
    "# Print the number of companies in the list\n",
    "print(\"Number of Companies:\", len(it_companies))\n",
    "\n",
    "# Print the first, middle, and last company\n",
    "print(\"First Company:\", it_companies[0])\n",
    "print(\"Middle Company:\", it_companies[len(it_companies) // 2])\n",
    "print(\"Last Company:\", it_companies[-1])\n",
    "\n",
    "# Modify one of the companies\n",
    "it_companies[1] = 'Google Corp'\n",
    "\n",
    "print(\"The modified list is: \", it_companies)\n",
    "\n",
    "# Add an IT company\n",
    "it_companies.append('SmartConnect')\n",
    "\n",
    "# Insert an IT company in the middle\n",
    "it_companies.insert(len(it_companies) // 2, 'InsertedCompany')\n",
    "\n",
    "# Change one of the company names to uppercase\n",
    "it_companies[4] = it_companies[4].upper()\n",
    "\n",
    "# Join the list with a string '#;  '\n",
    "joined_companies = '#;  '.join(it_companies)\n",
    "\n",
    "# Check if a certain company exists\n",
    "company_to_check = 'Google'\n",
    "company_exists = company_to_check in it_companies\n",
    "\n",
    "# Sort the list\n",
    "it_companies.sort()\n",
    "\n",
    "# Reverse the list in descending order\n",
    "it_companies.reverse()\n",
    "\n",
    "# Slice out the first 3 companies\n",
    "first_three_companies = it_companies[:3]\n",
    "\n",
    "# Slice out the last 3 companies\n",
    "last_three_companies = it_companies[-3:]\n",
    "\n",
    "# Slice out the middle company or companies\n",
    "middle_index = len(it_companies) // 2\n",
    "middle_companies = it_companies[middle_index - 1 : middle_index + 2]\n",
    "\n",
    "# Remove the first IT company\n",
    "it_companies.pop(0)\n",
    "\n",
    "# Remove the middle IT company or companies\n",
    "it_companies.pop(middle_index)\n",
    "\n",
    "# Remove the last IT company\n",
    "it_companies.pop()\n",
    "\n",
    "# Remove all IT companies\n",
    "it_companies.clear()\n",
    "\n",
    "# Destroy the IT companies list\n",
    "del it_companies"
   ]
  },
  {
   "cell_type": "markdown",
   "metadata": {},
   "source": [
    "##### Join the front_end and back_end lists\n"
   ]
  },
  {
   "cell_type": "code",
   "execution_count": 18,
   "metadata": {},
   "outputs": [
    {
     "name": "stdout",
     "output_type": "stream",
     "text": [
      "Full Stack: ['HTML', 'CSS', 'JS', 'React', 'Redux', 'Python', 'SQL', 'Node', 'Express', 'MongoDB']\n"
     ]
    }
   ],
   "source": [
    "front_end = ['HTML', 'CSS', 'JS', 'React', 'Redux']\n",
    "back_end = ['Node', 'Express', 'MongoDB']\n",
    "full_stack = front_end + back_end\n",
    "\n",
    "# Insert Python and SQL after Redux\n",
    "full_stack.insert(full_stack.index('Redux') + 1, 'Python')\n",
    "full_stack.insert(full_stack.index('Redux') + 2, 'SQL')\n",
    "\n",
    "# Print the final joined and modified list\n",
    "print(\"Full Stack:\", full_stack)\n"
   ]
  },
  {
   "cell_type": "markdown",
   "metadata": {},
   "source": [
    "# Exercise 2"
   ]
  },
  {
   "cell_type": "markdown",
   "metadata": {},
   "source": [
    "#### List of Student ages "
   ]
  },
  {
   "cell_type": "code",
   "execution_count": 1,
   "metadata": {},
   "outputs": [],
   "source": [
    "ages = [19, 22, 19, 24, 20, 25, 26, 24, 25, 24]"
   ]
  },
  {
   "cell_type": "markdown",
   "metadata": {},
   "source": [
    "#### Sort the list to find the min and max age"
   ]
  },
  {
   "cell_type": "code",
   "execution_count": 3,
   "metadata": {},
   "outputs": [
    {
     "name": "stdout",
     "output_type": "stream",
     "text": [
      "Sorted Ages: [19, 19, 19, 20, 22, 24, 24, 24, 25, 25, 26, 26, 19, 26]\n",
      "Min Age: 19\n",
      "Max Age: 26\n",
      "Median Age: 24.0\n",
      "Average Age: 22.714285714285715\n",
      "Age Range: 7\n",
      "Abs(min - average): 3.7142857142857153\n",
      "Abs(max - average): 3.2857142857142847\n",
      "\n",
      "Middle Country(ies): Finland\n",
      "First Half of Countries: ['China', 'Russia', 'USA']\n",
      "Second Half of Countries: ['Finland', 'Sweden', 'Norway', 'Denmark']\n",
      "First Three Countries: China Russia USA\n",
      "Scandic Countries: ['Finland', 'Sweden', 'Norway', 'Denmark']\n"
     ]
    }
   ],
   "source": [
    "ages.sort()\n",
    "min_age = min(ages)\n",
    "max_age = max(ages)\n",
    "\n",
    "# Add the min and max age again to the list\n",
    "ages.extend([min_age, max_age])\n",
    "\n",
    "# Find the median age\n",
    "middle_index = len(ages) // 2\n",
    "median_age = (ages[middle_index - 1] + ages[middle_index]) / 2 if len(ages) % 2 == 0 else ages[middle_index]\n",
    "\n",
    "# Find the average age\n",
    "average_age = sum(ages) / len(ages)\n",
    "\n",
    "# Find the range of the ages\n",
    "age_range = max_age - min_age\n",
    "\n",
    "# Compare (min - average) and (max - average)\n",
    "min_difference = abs(min_age - average_age)\n",
    "max_difference = abs(max_age - average_age)\n",
    "\n",
    "# Print the results for student ages\n",
    "print(\"Sorted Ages:\", ages)\n",
    "print(\"Min Age:\", min_age)\n",
    "print(\"Max Age:\", max_age)\n",
    "print(\"Median Age:\", median_age)\n",
    "print(\"Average Age:\", average_age)\n",
    "print(\"Age Range:\", age_range)\n",
    "print(\"Abs(min - average):\", min_difference)\n",
    "print(\"Abs(max - average):\", max_difference)\n",
    "\n",
    "# List of countries\n",
    "countries = ['China', 'Russia', 'USA', 'Finland', 'Sweden', 'Norway', 'Denmark']\n",
    "\n",
    "# Find the middle country(ies)\n",
    "middle_country = countries[len(countries) // 2]\n",
    "\n",
    "# Divide the countries list into two equal lists\n",
    "half_index = len(countries) // 2\n",
    "first_half = countries[:half_index]\n",
    "second_half = countries[half_index:]\n",
    "\n",
    "# Unpack the first three countries and the rest as scandic countries\n",
    "first_country, second_country, third_country, *scandic_countries = countries\n",
    "\n",
    "# Print the results for countries\n",
    "print(\"\\nMiddle Country(ies):\", middle_country)\n",
    "print(\"First Half of Countries:\", first_half)\n",
    "print(\"Second Half of Countries:\", second_half)\n",
    "print(\"First Three Countries:\", first_country, second_country, third_country)\n",
    "print(\"Scandic Countries:\", scandic_countries)\n"
   ]
  },
  {
   "cell_type": "markdown",
   "metadata": {},
   "source": [
    "\n"
   ]
  }
 ],
 "metadata": {
  "kernelspec": {
   "display_name": "base",
   "language": "python",
   "name": "python3"
  },
  "language_info": {
   "codemirror_mode": {
    "name": "ipython",
    "version": 3
   },
   "file_extension": ".py",
   "mimetype": "text/x-python",
   "name": "python",
   "nbconvert_exporter": "python",
   "pygments_lexer": "ipython3",
   "version": "3.11.4"
  },
  "orig_nbformat": 4
 },
 "nbformat": 4,
 "nbformat_minor": 2
}
