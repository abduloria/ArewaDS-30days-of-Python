{
 "cells": [
  {
   "cell_type": "markdown",
   "metadata": {},
   "source": [
    "# Day 3: 30 days of python programming"
   ]
  },
  {
   "cell_type": "code",
   "execution_count": 41,
   "metadata": {},
   "outputs": [
    {
     "name": "stdout",
     "output_type": "stream",
     "text": [
      "The area of the Triangle is 6.0\n",
      "The perimeter of the triangle is: 10.0\n",
      "The Area of the Rectangle is  18.0 square meter\n",
      "The circumference of the circle is 37.68\n",
      "The area of the circle is 113.03999999999999\n",
      "The slope is: 2.0 and the Euclidean distance is:  8.94427190999916\n",
      "The slope are equal.\n",
      "For x = -4, y = 1\n",
      "For x = -3, y = 0\n",
      "For x = -2, y = 1\n",
      "For x = -1, y = 4\n",
      "For x = 0, y = 9\n",
      "For x = 1, y = 16\n",
      "For x = 2, y = 25\n"
     ]
    }
   ],
   "source": [
    "age = 34 # Age declared as an integer\n",
    "height = 1.5 # Declared height as float\n",
    "complex_num = 3 + 5j  #Declared a complex number\n",
    "\n",
    "#Scripts calculating the Area of Triangle\n",
    "\n",
    "b = float(input(\"Enter Base: \"))\n",
    "h = float(input(\"Enter Height: \"))\n",
    "area_triangle = 0.5 * b * h \n",
    "print (f\"The area of the Triangle is {area_triangle}\") # print out the result\n",
    "\n",
    "# Scripts calculating the sides of Triangle\n",
    "\n",
    "a = float(input(\"Enter side a: \"))\n",
    "b = float(input(\"Enter side b: \"))\n",
    "c = float(input(\"Enter side c: \"))\n",
    "perimeter = a + b + c\n",
    "\n",
    "print(f\"The perimeter of the triangle is: {perimeter}\" )  # print out the result\n",
    "\n",
    "# Get length and width of a rectangle using prompt. \n",
    "# Calculate its area (area = length x width) and perimeter \n",
    "# (perimeter = 2 x (length + width))\n",
    "\n",
    "length = float (input(\"Enter Length of Rectangle: \"))\n",
    "width = float (input(\"Enter Width of Rectangle: \"))\n",
    "\n",
    "area_rec = length * width\n",
    "print (\"The Area of the Rectangle is \", area_rec , 'square meter')\n",
    "\n",
    "perimeter_rec = 2 * (length * width) \n",
    "\n",
    "# Get radius of a circle using prompt. \n",
    "# Calculate the area (area = pi x r x r) and circumference (c = 2 x pi x r) where pi = 3.14\n",
    "\n",
    "radius = float (input('Enter radius: '))\n",
    "pi = 3.14\n",
    "area_circle = pi * radius * radius\n",
    "circum = 2 * pi * radius\n",
    "print (f'The circumference of the circle is {circum}')\n",
    "print (f'The area of the circle is {area_circle}')\n",
    "\n",
    "slope_task8 = 2 \n",
    "x_intercept = 0     # For y = 2x - 2, x-intercept is where y = 0\n",
    "y_intercept = -2    # For y = 2x - 2, y-intercept is where x = 0\n",
    "\n",
    "x1, y1 = 2, 2\n",
    "x2, y2 = 6, 10\n",
    "\n",
    "slope_task9 = (y2 - y1) /  (x2 - x1) # This code calculate the slope\n",
    "euclid_dist = ((x2 -x1)** 2 + (y2 - y1)**2) ** 0.5 # The code calculate the Euclidean distance between two points\n",
    "\n",
    "print (\"The slope is:\",slope_task9,\"and the Euclidean distance is: \",euclid_dist) # Displays the slope and euclidean result\n",
    "\n",
    "\n",
    "\n",
    "# Compare the slopes in tasks 8 and 9.\n",
    "# The slope for the task 8 is 2 while that for task 9 is 4\n",
    "# using if statement, I'll let the slope for task 8 to be slope_task8 since that for task 9 is slope_task9\n",
    "\n",
    "if slope_task8 == slope_task9: # checking which is greater or less\n",
    "    print (\"The slope are equal.\")\n",
    "else:\n",
    "    print (\"The slope are not equal.\")\n",
    "\n",
    "# Try different x values and find when y is 0\n",
    "for x in range(-4, 3):\n",
    "    y = x**2 + 6*x + 9\n",
    "    print(f\"For x = {x}, y = {y}\")\n",
    "\n",
    "# The value of x when y is 0 is x = -3\n"
   ]
  },
  {
   "cell_type": "markdown",
   "metadata": {},
   "source": [
    "### Find the length of 'python' and 'dragon'\n"
   ]
  },
  {
   "cell_type": "code",
   "execution_count": 42,
   "metadata": {},
   "outputs": [
    {
     "name": "stdout",
     "output_type": "stream",
     "text": [
      "The length of 'python' is 6 and 'dragon' is 6\n",
      "Are the lengths different? False\n"
     ]
    }
   ],
   "source": [
    "len_python = len('python')\n",
    "len_dragon = len('dragon')\n",
    "\n",
    "print(f\"The length of 'python' is {len_python} and 'dragon' is {len_dragon}\")\n",
    "print(f\"Are the lengths different? {len_python != len_dragon}\")"
   ]
  },
  {
   "cell_type": "markdown",
   "metadata": {},
   "source": [
    "### Use 'and' operator to check if 'on' is found in both 'python' and 'dragon'\n"
   ]
  },
  {
   "cell_type": "code",
   "execution_count": 43,
   "metadata": {},
   "outputs": [
    {
     "name": "stdout",
     "output_type": "stream",
     "text": [
      "Is 'on' found in both 'python' and 'dragon'? True\n"
     ]
    }
   ],
   "source": [
    "check_python = 'on' in 'python'\n",
    "check_dragon = 'on' in 'dragon'\n",
    "\n",
    "print(f\"Is 'on' found in both 'python' and 'dragon'? {check_python and check_dragon}\")"
   ]
  },
  {
   "cell_type": "markdown",
   "metadata": {},
   "source": [
    "### Find the length of 'python' and convert it to float and then to string"
   ]
  },
  {
   "cell_type": "code",
   "execution_count": 44,
   "metadata": {},
   "outputs": [
    {
     "name": "stdout",
     "output_type": "stream",
     "text": [
      "Length of 'python': 6\n",
      "Length of 'python' as float: 6.0\n",
      "Length of 'python' as string: 6.0\n"
     ]
    }
   ],
   "source": [
    "\n",
    "len_python = len('python')\n",
    "float_len_python = float(len_python)\n",
    "str_float_len_python = str(float_len_python)\n",
    "\n",
    "print(f\"Length of 'python': {len_python}\")\n",
    "print(f\"Length of 'python' as float: {float_len_python}\")\n",
    "print(f\"Length of 'python' as string: {str_float_len_python}\")\n"
   ]
  },
  {
   "cell_type": "markdown",
   "metadata": {},
   "source": [
    "#### Check if a number is even or odd"
   ]
  },
  {
   "cell_type": "code",
   "execution_count": 45,
   "metadata": {},
   "outputs": [
    {
     "name": "stdout",
     "output_type": "stream",
     "text": [
      "3 is odd.\n"
     ]
    }
   ],
   "source": [
    "\n",
    "num = int (input(\"Enter a number: \"))\n",
    "if num % 2 == 0: # using modulus operator to check the value\n",
    "        print(f\"{num} is even.\")\n",
    "else:\n",
    "        print(f\"{num} is odd.\")"
   ]
  },
  {
   "cell_type": "markdown",
   "metadata": {},
   "source": [
    "### Check if floor division of 7 by 3 is equal to int converted value of 2.7"
   ]
  },
  {
   "cell_type": "code",
   "execution_count": 46,
   "metadata": {},
   "outputs": [
    {
     "name": "stdout",
     "output_type": "stream",
     "text": [
      "Is 2 equal to 2? Yes\n"
     ]
    }
   ],
   "source": [
    "result = 7 // 3 # using \n",
    "converted_value = int(result)\n",
    "\n",
    "print(f\"Is {result} equal to {converted_value}? {'Yes' if result == converted_value else 'No'}\")"
   ]
  },
  {
   "cell_type": "markdown",
   "metadata": {},
   "source": [
    "### Check if type of '10' is equal to type of 10"
   ]
  },
  {
   "cell_type": "code",
   "execution_count": 47,
   "metadata": {},
   "outputs": [
    {
     "name": "stdout",
     "output_type": "stream",
     "text": [
      "Are the types the same? False\n"
     ]
    }
   ],
   "source": [
    "\n",
    "print(f\"Are the types the same? {type('10') == type(10)}\")\n"
   ]
  },
  {
   "cell_type": "markdown",
   "metadata": {},
   "source": [
    "### Check if int('9.8') is equal to 10"
   ]
  },
  {
   "cell_type": "code",
   "execution_count": 48,
   "metadata": {},
   "outputs": [
    {
     "name": "stdout",
     "output_type": "stream",
     "text": [
      "Cannot convert '9.8' to int.\n"
     ]
    }
   ],
   "source": [
    "try:\n",
    "    value = int('9.8')\n",
    "    print(f\"Is {value} equal to 10? {'Yes' if value == 10 else 'No'}\")\n",
    "except ValueError:\n",
    "    print(\"Cannot convert '9.8' to int.\")\n"
   ]
  },
  {
   "cell_type": "markdown",
   "metadata": {},
   "source": [
    "### Calculate weekly earnings based on hours and rate per hour\n"
   ]
  },
  {
   "cell_type": "code",
   "execution_count": 49,
   "metadata": {},
   "outputs": [
    {
     "name": "stdout",
     "output_type": "stream",
     "text": [
      "Your weekly earning is 35.0\n"
     ]
    }
   ],
   "source": [
    "\n",
    "hrs = float(input(\"Enter hours: \"))\n",
    "rate_per_hr = float(input(\"Enter rate per hour: \"))\n",
    "\n",
    "weekly_earning = hrs * rate_per_hr\n",
    "print(f\"Your weekly earning is {weekly_earning}\")"
   ]
  },
  {
   "cell_type": "markdown",
   "metadata": {},
   "source": [
    "### Calculate the number of seconds a person can live based on years"
   ]
  },
  {
   "cell_type": "code",
   "execution_count": 50,
   "metadata": {},
   "outputs": [
    {
     "name": "stdout",
     "output_type": "stream",
     "text": [
      "252288000 is the number of seconds you've lived\n"
     ]
    }
   ],
   "source": [
    "years = int (input(\"Enter the number of years you have lived: \" ))\n",
    "seconds_in_year = 365 * 24 * 60 * 60\n",
    "total_sec = years * seconds_in_year\n",
    "print(f\"{total_sec} is the number of seconds you've lived\")"
   ]
  },
  {
   "cell_type": "markdown",
   "metadata": {},
   "source": [
    "### Display a simple table\n"
   ]
  },
  {
   "cell_type": "code",
   "execution_count": 51,
   "metadata": {},
   "outputs": [
    {
     "name": "stdout",
     "output_type": "stream",
     "text": [
      "1 1 1 1 1\n",
      "2 1 2 2 2\n",
      "2 2 2 2 2\n",
      "3 1 3 4 8\n",
      "3 3 3 3 3\n",
      "4 1 4 6 18\n",
      "4 4 4 4 4\n",
      "5 1 5 8 32\n",
      "5 5 5 5 5\n",
      "6 1 6 10 50\n"
     ]
    }
   ],
   "source": [
    "for i in range(1, 6):\n",
    "    print(f\"{i} {i} {i} {i} {i}\")\n",
    "    print(f\"{i+1} {1} {i+1} {i*2} {i*2*i}\")"
   ]
  }
 ],
 "metadata": {
  "kernelspec": {
   "display_name": "base",
   "language": "python",
   "name": "python3"
  },
  "language_info": {
   "codemirror_mode": {
    "name": "ipython",
    "version": 3
   },
   "file_extension": ".py",
   "mimetype": "text/x-python",
   "name": "python",
   "nbconvert_exporter": "python",
   "pygments_lexer": "ipython3",
   "version": "3.11.4"
  },
  "orig_nbformat": 4
 },
 "nbformat": 4,
 "nbformat_minor": 2
}
