{
 "cells": [
  {
   "cell_type": "markdown",
   "metadata": {},
   "source": [
    "### Concatenate the strings"
   ]
  },
  {
   "cell_type": "code",
   "execution_count": null,
   "metadata": {},
   "outputs": [],
   "source": [
    "concatenated_str1 = ' '.join(['Thirty', 'Days', 'Of', 'Python'])\n",
    "concatenated_str2 = ' '.join(['Coding', 'For', 'All'])\n",
    "print(concatenated_str1)\n",
    "print(concatenated_str2)"
   ]
  },
  {
   "cell_type": "markdown",
   "metadata": {},
   "source": [
    "### Declare a variable named company to used for manipulation of strings"
   ]
  },
  {
   "cell_type": "code",
   "execution_count": null,
   "metadata": {},
   "outputs": [],
   "source": [
    "company = \"Coding For All\"\n",
    "print(company)"
   ]
  },
  {
   "cell_type": "code",
   "execution_count": null,
   "metadata": {},
   "outputs": [],
   "source": [
    "# Print the length of the company string\n",
    "print(len(company)) # length of the characters in the company variable\n",
    "\n",
    "# Change all characters to uppercase and lowercase\n",
    "print(company.upper()) #change them to upper case\n",
    "print(company.lower()) #change them to lower case\n",
    "\n",
    "# Use capitalize(), title(), swapcase() methods\n",
    "print(company.capitalize())\n",
    "print(company.title())\n",
    "print(company.swapcase())\n",
    "\n",
    "# Cut out the first word\n",
    "cut_first_word = company.split(' ', 1)[1]\n",
    "print(cut_first_word)\n",
    "\n",
    "# Check if the string contains a word\n",
    "contains_coding = 'Coding' in company\n",
    "print(contains_coding)\n",
    "\n",
    "# Replace the word 'Coding' with 'Python'\n",
    "replaced_str = company.replace('Coding', 'Python')\n",
    "print(replaced_str)\n",
    "\n",
    "# Replace 'Python for Everyone' with 'Python for All'\n",
    "replaced_str2 = replaced_str.replace('Everyone', 'All')\n",
    "print(replaced_str2)\n",
    "\n",
    "# Split the string\n",
    "split_str = company.split(' ')\n",
    "print(split_str)\n",
    "\n",
    "# Split the comma-separated string\n",
    "comma_str = \"Facebook, Google, Microsoft, Apple, IBM, Oracle, Amazon\"\n",
    "split_comma_str = comma_str.split(', ')\n",
    "print(split_comma_str)\n",
    "\n",
    "# Character at index 0\n",
    "print(company[0])\n",
    "\n",
    "# Last index of the string\n",
    "print(company.rindex('l'))\n",
    "\n",
    "# Character at index 10\n",
    "print(company[10])\n",
    "\n",
    "# Acronym for 'Python For Everyone'\n",
    "acronym1 = ''.join(word[0] for word in 'Python For Everyone'.split())\n",
    "print(acronym1)\n",
    "\n",
    "# Acronym for 'Coding For All'\n",
    "acronym2 = ''.join(word[0] for word in 'Coding For All'.split())\n",
    "print(acronym2)\n",
    "\n",
    "# Position of the first occurrence of C and F\n",
    "print(company.index('C'))\n",
    "print(company.index('F'))\n",
    "\n",
    "# Position of the last occurrence of l in Coding For All People\n",
    "print(company.rfind('l'))\n",
    "\n",
    "# Position of the word 'because'\n",
    "sentence = 'You cannot end a sentence with because because because is a conjunction'\n",
    "print(sentence.index('because'))\n",
    "\n",
    "# Position of the last occurrence of the word 'because'\n",
    "print(sentence.rindex('because'))\n",
    "\n",
    "# Slice out the phrase 'because because because'\n",
    "slice_phrase = sentence[sentence.index('because'):sentence.rindex('because') + len('because') * 3]\n",
    "print(slice_phrase)\n",
    "\n",
    "# Check if 'Coding For All' starts or ends with a substring\n",
    "print(company.startswith('Coding'))\n",
    "print(company.endswith('coding'))\n"
   ]
  },
  {
   "cell_type": "code",
   "execution_count": 16,
   "metadata": {},
   "outputs": [
    {
     "name": "stdout",
     "output_type": "stream",
     "text": [
      "Coding For All\n",
      "False\n",
      "True\n",
      "Django # Flask # Bottle # Pyramid # Falcon\n",
      "I am enjoying this challenge.\n",
      "I just wonder what is next.\n",
      "Name\t\tAge\t\tCountry\t\tCity\n",
      "Asabeneh\t250\t\tFinland\t\tHelsinki\n",
      "\n",
      " The area of a circle with radius 10 is 314.0 meters square.\n",
      "\n",
      "8 + 6 = 14\n",
      "8 - 6 = 2\n",
      "8 * 6 = 48\n",
      "8 / 6 = 1.33\n",
      "8 % 6 = 2\n",
      "8 // 6 = 1\n",
      "8 ** 6 = 262144\n"
     ]
    }
   ],
   "source": [
    "# Remove trailing spaces\n",
    "trimmed_str = '   Coding For All      '.strip()\n",
    "print(trimmed_str)\n",
    "\n",
    "# Check isidentifier\n",
    "print('30DaysOfPython'.isidentifier())  # False\n",
    "print('thirty_days_of_python'.isidentifier())  # True\n",
    "\n",
    "# Join the list with a hash with space string\n",
    "libraries = ['Django', 'Flask', 'Bottle', 'Pyramid', 'Falcon']\n",
    "joined_libraries = ' # '.join(libraries)\n",
    "print(joined_libraries)\n",
    "\n",
    "# New line escape sequence\n",
    "new_line_escape = 'I am enjoying this challenge.\\nI just wonder what is next.'\n",
    "print(new_line_escape)\n",
    "\n",
    "# Tab escape sequence\n",
    "tab_escape = 'Name\\t\\tAge\\t\\tCountry\\t\\tCity\\nAsabeneh\\t250\\t\\tFinland\\t\\tHelsinki'\n",
    "print(tab_escape)\n",
    "\n",
    "# String formatting\n",
    "radius = 10\n",
    "area = 3.14 * radius ** 2\n",
    "print(f'\\n The area of a circle with radius {radius} is {area} meters square.\\n')\n",
    "\n",
    "# String formatting for calculations\n",
    "calculation_str = '{0} + {1} = {2}\\n{0} - {1} = {3}\\n{0} * {1} = {4}\\n{0} / {1} = {5:.2f}\\n{0} % {1} = {6}\\n{0} // {1} = {7}\\n{0} ** {1} = {8}'.format(\n",
    "    8, 6, 8 + 6, 8 - 6, 8 * 6, 8 / 6, 8 % 6, 8 // 6, 8 ** 6\n",
    ")\n",
    "print(calculation_str)"
   ]
  }
 ],
 "metadata": {
  "kernelspec": {
   "display_name": "base",
   "language": "python",
   "name": "python3"
  },
  "language_info": {
   "codemirror_mode": {
    "name": "ipython",
    "version": 3
   },
   "file_extension": ".py",
   "mimetype": "text/x-python",
   "name": "python",
   "nbconvert_exporter": "python",
   "pygments_lexer": "ipython3",
   "version": "3.11.4"
  },
  "orig_nbformat": 4
 },
 "nbformat": 4,
 "nbformat_minor": 2
}
