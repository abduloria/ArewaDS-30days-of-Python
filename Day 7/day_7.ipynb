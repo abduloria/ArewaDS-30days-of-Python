{
 "cells": [
  {
   "cell_type": "markdown",
   "metadata": {},
   "source": [
    "# Exercise : Level 1"
   ]
  },
  {
   "cell_type": "code",
   "execution_count": 17,
   "metadata": {},
   "outputs": [],
   "source": [
    "# sets\n",
    "it_companies = {'Facebook', 'Google', 'Microsoft', 'Apple', 'IBM', 'Oracle', 'Amazon'}\n",
    "A = {19, 22, 24, 20, 25, 26}\n",
    "B = {19, 22, 20, 25, 26, 24, 28, 27}\n",
    "age = [22, 19, 24, 25, 26, 24, 25, 24]"
   ]
  },
  {
   "cell_type": "code",
   "execution_count": 18,
   "metadata": {},
   "outputs": [
    {
     "name": "stdout",
     "output_type": "stream",
     "text": [
      "7\n"
     ]
    }
   ],
   "source": [
    "#Find the lenght of 'it companies'\n",
    "length_it_companies = len(it_companies)\n",
    "print(length_it_companies)"
   ]
  },
  {
   "cell_type": "code",
   "execution_count": 19,
   "metadata": {},
   "outputs": [
    {
     "name": "stdout",
     "output_type": "stream",
     "text": [
      "{'Facebook', 'Microsoft', 'Amazon', 'IBM', 'Oracle', 'Google', 'Apple', 'Smart Connect'}\n"
     ]
    }
   ],
   "source": [
    "\n",
    "#Add an IT company called Smartconnect\n",
    "it_companies.add('Smart Connect')\n",
    "print(it_companies)"
   ]
  },
  {
   "cell_type": "code",
   "execution_count": 20,
   "metadata": {},
   "outputs": [
    {
     "name": "stdout",
     "output_type": "stream",
     "text": [
      "{'IBM', 'Moniepoint', 'Smart Connect', 'Ummah Cash', 'Facebook', 'Amazon', 'Oracle', 'Microsoft', 'Google', 'Apple', 'Paystack'}\n"
     ]
    }
   ],
   "source": [
    "\n",
    "#Add multiple IT companies \n",
    "it_companies.update(['Moniepoint', 'Paystack', 'Ummah Cash'])\n",
    "print(it_companies)"
   ]
  },
  {
   "cell_type": "code",
   "execution_count": 21,
   "metadata": {},
   "outputs": [
    {
     "name": "stdout",
     "output_type": "stream",
     "text": [
      "{'Moniepoint', 'Smart Connect', 'Ummah Cash', 'Facebook', 'Amazon', 'Oracle', 'Microsoft', 'Google', 'Apple', 'Paystack'}\n"
     ]
    }
   ],
   "source": [
    "\n",
    "#Remove an IT company from the set it_companies\n",
    "it_companies.remove('IBM')\n",
    "print(it_companies)"
   ]
  },
  {
   "cell_type": "code",
   "execution_count": 22,
   "metadata": {},
   "outputs": [
    {
     "name": "stdout",
     "output_type": "stream",
     "text": [
      "{19, 20, 22, 24, 25, 26, 27, 28}\n"
     ]
    }
   ],
   "source": [
    "\n",
    "# Join A and B\n",
    "joined_set = A.union(B)\n",
    "print(joined_set)"
   ]
  },
  {
   "cell_type": "code",
   "execution_count": 23,
   "metadata": {},
   "outputs": [
    {
     "name": "stdout",
     "output_type": "stream",
     "text": [
      "{19, 20, 22, 24, 25, 26}\n",
      "True\n",
      "False\n",
      "{19, 20, 22, 24, 25, 26, 27, 28}\n",
      "{19, 20, 22, 24, 25, 26, 27, 28}\n",
      "set()\n"
     ]
    }
   ],
   "source": [
    "# Find the A intersection B\n",
    "intersection_set = A.intersection(B)\n",
    "print(intersection_set)\n",
    "\n",
    "# Is A subset of B: \n",
    "is_subset = A.issubset(B)\n",
    "print(is_subset)\n",
    "\n",
    "# Are A and B disjoint sets:\n",
    "are_disjoint = A.isdisjoint(B)\n",
    "print(are_disjoint)\n",
    "\n",
    "# Join A with B and B with A:\n",
    "A.update(B)\n",
    "B.update(A)\n",
    "print(A)\n",
    "print(B)\n",
    "\n",
    "# What is the symmetric difference between A and B\n",
    "symmetric_difference_set = A.symmetric_difference(B)\n",
    "print(symmetric_difference_set)\n",
    "\n",
    "#Delete the sets completely\n",
    "del it_companies, A, B\n",
    "# After this, it_companies, A, and B will no longer exist."
   ]
  },
  {
   "cell_type": "markdown",
   "metadata": {},
   "source": [
    "# Exercise: Level 3"
   ]
  },
  {
   "cell_type": "code",
   "execution_count": 24,
   "metadata": {},
   "outputs": [
    {
     "name": "stdout",
     "output_type": "stream",
     "text": [
      "List has more unique elements than set.\n",
      "10\n"
     ]
    }
   ],
   "source": [
    "#Converts ages to a set and compare lengths\n",
    "age_set = set(age)\n",
    "print(\"Set has more unique elements than list.\" if len(age_set) > len(age) else \"List has more unique elements than set.\")\n",
    "\n",
    "# Count unique words in a sentence\n",
    "sentence = \"I am a teacher and I love to inspire and teach people.\"\n",
    "unique_words = set(sentence.split())\n",
    "print(len(unique_words))"
   ]
  }
 ],
 "metadata": {
  "kernelspec": {
   "display_name": "base",
   "language": "python",
   "name": "python3"
  },
  "language_info": {
   "codemirror_mode": {
    "name": "ipython",
    "version": 3
   },
   "file_extension": ".py",
   "mimetype": "text/x-python",
   "name": "python",
   "nbconvert_exporter": "python",
   "pygments_lexer": "ipython3",
   "version": "3.11.4"
  },
  "orig_nbformat": 4
 },
 "nbformat": 4,
 "nbformat_minor": 2
}
