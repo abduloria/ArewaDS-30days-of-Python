{
 "cells": [
  {
   "cell_type": "code",
   "execution_count": 3,
   "metadata": {},
   "outputs": [
    {
     "name": "stdout",
     "output_type": "stream",
     "text": [
      "Number of siblings: 6\n",
      "Father: Father\n",
      "Mother: Mother\n",
      "Middle item in food_stuff_tp: Ugwu\n",
      "Middle items in food_stuff_lt: Ugwu\n",
      "First three items in food_stuff_lt: ['Mango', 'Banana', 'Water Melon']\n",
      "Last three items in food_stuff_lt: ['Chicken', 'Beef', 'Eggs']\n",
      "'Estonia' is a Nordic country: False\n",
      "'Iceland' is a Nordic country: True\n"
     ]
    }
   ],
   "source": [
    "# Create an empty tuple\n",
    "empty_tuple = ()\n",
    "\n",
    "# Create a tuple containing names of sisters and brothers\n",
    "sisters = ('Barakat', 'Aisha', 'Maryam')\n",
    "brothers = ('Musa', 'Lukman', 'Abdullahi')\n",
    "\n",
    "# Join brothers and sisters tuples\n",
    "siblings = brothers + sisters\n",
    "\n",
    "# How many siblings do you have?\n",
    "num_siblings = len(siblings)\n",
    "\n",
    "# Modify the siblings tuple and add the name of your father and mother\n",
    "family_members = ('Father', 'Mother') + siblings\n",
    "\n",
    "# Unpack siblings and parents from family_members\n",
    "father, mother, *rest_siblings = family_members\n",
    "\n",
    "# Create fruits, vegetables, and animal products tuples\n",
    "fruits = ('Mango', 'Banana', 'Water Melon')\n",
    "vegetables = ('Carrot', 'Ugwu', 'Bitter Leaf')\n",
    "animal_products = ('Chicken', 'Beef', 'Eggs')\n",
    "\n",
    "# Join the three tuples\n",
    "food_stuff_tp = fruits + vegetables + animal_products\n",
    "\n",
    "# Change the food_stuff_tp tuple to a food_stuff_lt list\n",
    "food_stuff_lt = list(food_stuff_tp)\n",
    "\n",
    "# Slice out the middle item or items from the food_stuff_tp tuple or food_stuff_lt list\n",
    "middle_index = len(food_stuff_tp) // 2\n",
    "middle_item_tp = food_stuff_tp[middle_index]\n",
    "middle_items_lt = food_stuff_lt[middle_index]\n",
    "\n",
    "# Slice out the first three items and the last three items from food_stuff_lt list\n",
    "first_three_items = food_stuff_lt[:3]\n",
    "last_three_items = food_stuff_lt[-3:]\n",
    "\n",
    "# Delete the food_stuff_tp tuple completely\n",
    "del food_stuff_tp\n",
    "\n",
    "# Check if an item exists in tuple\n",
    "nordic_countries = ('Sweden', 'Norway', 'Finland', 'Denmark', 'Iceland')\n",
    "\n",
    "# Check if 'Estonia' is a nordic country\n",
    "estonia_is_nordic = 'Estonia' in nordic_countries\n",
    "\n",
    "# Check if 'Iceland' is a nordic country\n",
    "iceland_is_nordic = 'Iceland' in nordic_countries\n",
    "\n",
    "# Print the results\n",
    "print(\"Number of siblings:\", num_siblings)\n",
    "print(\"Father:\", father)\n",
    "print(\"Mother:\", mother)\n",
    "print(\"Middle item in food_stuff_tp:\", middle_item_tp)\n",
    "print(\"Middle items in food_stuff_lt:\", middle_items_lt)\n",
    "print(\"First three items in food_stuff_lt:\", first_three_items)\n",
    "print(\"Last three items in food_stuff_lt:\", last_three_items)\n",
    "print(\"'Estonia' is a Nordic country:\", estonia_is_nordic)\n",
    "print(\"'Iceland' is a Nordic country:\", iceland_is_nordic)\n"
   ]
  }
 ],
 "metadata": {
  "kernelspec": {
   "display_name": "base",
   "language": "python",
   "name": "python3"
  },
  "language_info": {
   "codemirror_mode": {
    "name": "ipython",
    "version": 3
   },
   "file_extension": ".py",
   "mimetype": "text/x-python",
   "name": "python",
   "nbconvert_exporter": "python",
   "pygments_lexer": "ipython3",
   "version": "3.11.4"
  },
  "orig_nbformat": 4
 },
 "nbformat": 4,
 "nbformat_minor": 2
}
