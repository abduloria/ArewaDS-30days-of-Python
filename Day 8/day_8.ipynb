# Create an empty dictionary called dog
dog = {}

# Add name, color, breed, legs, age to the dog dictionary
dog['name'] = 'Fido'
dog['color'] = 'Brown'
dog['breed'] = 'Labrador'
dog['legs'] = 4
dog['age'] = 3

print (dog)

# Create a student dictionary and add various key-value pairs
student = {
    'first_name': 'Musa',
    'last_name': 'Ahmed',
    'gender': 'Male',
    'age': 23,
    'marital_status': 'Single',
    'skills': ['Python', 'JavaScript'],
    'country': 'Nigeria',
    'city': 'Kaduna',
    'address': '123 Igabi St'
}

# Get the length of the student dictionary
student_length = len(student)

# Get the value of skills and check the data type (should be a list)
skills_value = student['skills']
skills_data_type = type(skills_value)

# Modify the skills values by adding one or two skills
student['skills'].extend(['HTML', 'CSS'])

# Get the dictionary keys as a list
keys_list = list(student.keys())

# Get the dictionary values as a list
values_list = list(student.values())

# Change the dictionary to a list of tuples using items() method
student_tuples = list(student.items())

# Delete one of the items in the dictionary
del student['marital_status']

# Delete one of the dictionaries (in this case, dog dictionary)
del dog
